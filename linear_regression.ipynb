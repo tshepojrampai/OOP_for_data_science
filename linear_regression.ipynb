{
 "cells": [
  {
   "cell_type": "code",
   "execution_count": 1,
   "metadata": {},
   "outputs": [],
   "source": [
    "import pandas as pd\n",
    "import numpy as np \n",
    "import seaborn as sns\n",
    "import matplotlib.pyplot as plt\n",
    "import scipy.stats as scipy\n",
    "import statsmodels.formula.api as smf\n",
    "import random\n",
    "from scipy.stats import iqr\n",
    "from scipy.stats import pearsonr\n",
    "from sklearn.linear_model import LinearRegression\n",
    "import warnings\n",
    "warnings.filterwarnings('ignore')\n",
    "warnings.simplefilter('ignore')"
   ]
  },
  {
   "cell_type": "code",
   "execution_count": 2,
   "metadata": {},
   "outputs": [
    {
     "data": {
      "text/html": [
       "<div>\n",
       "<style scoped>\n",
       "    .dataframe tbody tr th:only-of-type {\n",
       "        vertical-align: middle;\n",
       "    }\n",
       "\n",
       "    .dataframe tbody tr th {\n",
       "        vertical-align: top;\n",
       "    }\n",
       "\n",
       "    .dataframe thead th {\n",
       "        text-align: right;\n",
       "    }\n",
       "</style>\n",
       "<table border=\"1\" class=\"dataframe\">\n",
       "  <thead>\n",
       "    <tr style=\"text-align: right;\">\n",
       "      <th></th>\n",
       "      <th>salary</th>\n",
       "      <th>exprior</th>\n",
       "      <th>yearsworked</th>\n",
       "      <th>yearsrank</th>\n",
       "      <th>market</th>\n",
       "      <th>degree</th>\n",
       "      <th>otherqual</th>\n",
       "      <th>position</th>\n",
       "      <th>male</th>\n",
       "      <th>Field</th>\n",
       "      <th>yearsabs</th>\n",
       "    </tr>\n",
       "  </thead>\n",
       "  <tbody>\n",
       "    <tr>\n",
       "      <th>208</th>\n",
       "      <td>NaN</td>\n",
       "      <td>0</td>\n",
       "      <td>21</td>\n",
       "      <td>10</td>\n",
       "      <td>0.93</td>\n",
       "      <td>1</td>\n",
       "      <td>0</td>\n",
       "      <td>3</td>\n",
       "      <td>1</td>\n",
       "      <td>4</td>\n",
       "      <td>1</td>\n",
       "    </tr>\n",
       "  </tbody>\n",
       "</table>\n",
       "</div>"
      ],
      "text/plain": [
       "     salary  exprior  yearsworked  yearsrank  market  degree  otherqual  \\\n",
       "208     NaN        0           21         10    0.93       1          0   \n",
       "\n",
       "     position  male  Field  yearsabs  \n",
       "208         3     1      4         1  "
      ]
     },
     "execution_count": 2,
     "metadata": {},
     "output_type": "execute_result"
    }
   ],
   "source": [
    "df_salary = pd.read_csv('salary.csv')\n",
    "df_salary[df_salary.salary.isnull()]"
   ]
  },
  {
   "cell_type": "code",
   "execution_count": 3,
   "metadata": {},
   "outputs": [
    {
     "data": {
      "text/plain": [
       "(513, 11)"
      ]
     },
     "execution_count": 3,
     "metadata": {},
     "output_type": "execute_result"
    }
   ],
   "source": [
    "#Drop Nan values is salary column\n",
    "df_salary = df_salary.reset_index().dropna().set_index('index')\n",
    "# df_salary.salary.dropna()\n",
    "\n",
    "#Rename as per metadata\n",
    "df_salary =df_salary.rename(columns ={'male':'gender', 'experior':'Experience', 'yearsabs':'years_absent'})\n",
    "df_salary.gender = ['male' if i == 1 else 'female' for i in df_salary.gender]\n",
    "df_salary.position = ['Jnr_employee' if i == 1 else 'Manager' if  i == 2 else 'Executive' for i in df_salary.position]\n",
    "df_salary.Field = ['Engineering' if i == 1 else 'Finance' if i == 2 else 'Human Resource' for i in df_salary.Field]    \n",
    "df_salary.shape"
   ]
  },
  {
   "cell_type": "markdown",
   "metadata": {},
   "source": [
    "### 1.1 Split your data into a training and test set."
   ]
  },
  {
   "cell_type": "code",
   "execution_count": 4,
   "metadata": {},
   "outputs": [
    {
     "name": "stdout",
     "output_type": "stream",
     "text": [
      "80% of the data set must contain  411 rows\n"
     ]
    },
    {
     "data": {
      "text/plain": [
       "(411, 2)"
      ]
     },
     "execution_count": 4,
     "metadata": {},
     "output_type": "execute_result"
    }
   ],
   "source": [
    "#Splitting the data into the train and test set\"\n",
    "print(\"80% of the data set must contain \",round(514*0.8), 'rows')\n",
    "df_sample = df_salary.loc[:,['salary','yearsworked']]\n",
    "df_train =  df_sample.loc[:411,:]\n",
    "df_test = df_sample.loc[412:,:]\n",
    "df_train.shape"
   ]
  },
  {
   "cell_type": "markdown",
   "metadata": {},
   "source": [
    "### About the DataFrame: df_Salary\n",
    "1. There are **514 entries/observation** in this dataset meaning that **514 employees'** data is recorded.\n",
    "2. There is **one null value** in *Salary column*\n",
    "3. The *gender* column contains **two unique values of type object: male or female**\n",
    "4. The *Experience,years worked, years rank* columns contains **continuous values of type int*\n",
    "5. *Market* column contains **continuous value of type float**\n",
    "6. The *position* and *field* column contains **three unique values of type object(pandas string): {Jnr Employee, Executive or Manager} and {Human Resource, Finance or Engineering} respectively** \n",
    "   "
   ]
  },
  {
   "cell_type": "markdown",
   "metadata": {},
   "source": [
    "### Examine the training data for Extreme Values"
   ]
  },
  {
   "cell_type": "code",
   "execution_count": 5,
   "metadata": {},
   "outputs": [
    {
     "name": "stdout",
     "output_type": "stream",
     "text": [
      "Q1 for training set: $ 41089.5\n",
      "Q3 for training set: $ 61632.5\n",
      "Lower outlier boundry: $ 10275.0\n",
      "Upper outlier boundry: $ 92447.0\n",
      "Q1 for testing set: $ 37644.5\n",
      "Q3 for testing set: $ 50212.0\n",
      "Lower outlier boundry: $ 18793.25\n",
      "Upper outlier boundry: $ 69063.25\n"
     ]
    }
   ],
   "source": [
    "#Check for outliers:Train\n",
    "q75_train, q25_train = np.percentile(df_train['salary'], [75 ,25])\n",
    "iqr_train = q75_train - q25_train\n",
    "lower_bound = q25_train - iqr_train*1.5\n",
    "upper_bound = q75_train + iqr_train*1.5\n",
    "\n",
    "q75_test, q25_test = np.percentile(df_test['salary'], [75 ,25])\n",
    "iqr_test = q75_test - q25_test\n",
    "test_lower_bound = q25_test - iqr_test*1.5\n",
    "test_upper_bound = q75_test + iqr_test*1.5\n",
    "print('Q1 for training set: $',q25_train)\n",
    "print('Q3 for training set: $',q75_train)\n",
    "print('Lower outlier boundry: $',lower_bound )\n",
    "print('Upper outlier boundry: $',upper_bound )\n",
    "\n",
    "print('Q1 for testing set: $',q25_test)\n",
    "print('Q3 for testing set: $',q75_test)\n",
    "print('Lower outlier boundry: $',test_lower_bound )\n",
    "print('Upper outlier boundry: $',test_upper_bound )"
   ]
  },
  {
   "cell_type": "code",
   "execution_count": 6,
   "metadata": {},
   "outputs": [
    {
     "data": {
      "text/html": [
       "<div>\n",
       "<style scoped>\n",
       "    .dataframe tbody tr th:only-of-type {\n",
       "        vertical-align: middle;\n",
       "    }\n",
       "\n",
       "    .dataframe tbody tr th {\n",
       "        vertical-align: top;\n",
       "    }\n",
       "\n",
       "    .dataframe thead th {\n",
       "        text-align: right;\n",
       "    }\n",
       "</style>\n",
       "<table border=\"1\" class=\"dataframe\">\n",
       "  <thead>\n",
       "    <tr style=\"text-align: right;\">\n",
       "      <th></th>\n",
       "      <th>salary</th>\n",
       "      <th>yearsworked</th>\n",
       "      <th>Is_it_an_extreme</th>\n",
       "    </tr>\n",
       "    <tr>\n",
       "      <th>index</th>\n",
       "      <th></th>\n",
       "      <th></th>\n",
       "      <th></th>\n",
       "    </tr>\n",
       "  </thead>\n",
       "  <tbody>\n",
       "    <tr>\n",
       "      <th>377</th>\n",
       "      <td>96156.0</td>\n",
       "      <td>12</td>\n",
       "      <td>Yes</td>\n",
       "    </tr>\n",
       "  </tbody>\n",
       "</table>\n",
       "</div>"
      ],
      "text/plain": [
       "        salary  yearsworked Is_it_an_extreme\n",
       "index                                       \n",
       "377    96156.0           12              Yes"
      ]
     },
     "execution_count": 6,
     "metadata": {},
     "output_type": "execute_result"
    }
   ],
   "source": [
    "df_train['Is_it_an_extreme'] = ['Yes' if i < lower_bound else 'Yes' if i > upper_bound else \"No\" for i in df_train.salary]\n",
    "df_outliers = df_train[df_train.Is_it_an_extreme == 'Yes']\n",
    "df_outliers"
   ]
  },
  {
   "cell_type": "code",
   "execution_count": 7,
   "metadata": {},
   "outputs": [
    {
     "data": {
      "text/html": [
       "<div>\n",
       "<style scoped>\n",
       "    .dataframe tbody tr th:only-of-type {\n",
       "        vertical-align: middle;\n",
       "    }\n",
       "\n",
       "    .dataframe tbody tr th {\n",
       "        vertical-align: top;\n",
       "    }\n",
       "\n",
       "    .dataframe thead th {\n",
       "        text-align: right;\n",
       "    }\n",
       "</style>\n",
       "<table border=\"1\" class=\"dataframe\">\n",
       "  <thead>\n",
       "    <tr style=\"text-align: right;\">\n",
       "      <th></th>\n",
       "      <th>salary</th>\n",
       "      <th>yearsworked</th>\n",
       "      <th>Is_it_an_extreme</th>\n",
       "    </tr>\n",
       "    <tr>\n",
       "      <th>index</th>\n",
       "      <th></th>\n",
       "      <th></th>\n",
       "      <th></th>\n",
       "    </tr>\n",
       "  </thead>\n",
       "  <tbody>\n",
       "    <tr>\n",
       "      <th>0</th>\n",
       "      <td>53000.0</td>\n",
       "      <td>0</td>\n",
       "      <td>No</td>\n",
       "    </tr>\n",
       "    <tr>\n",
       "      <th>1</th>\n",
       "      <td>58000.0</td>\n",
       "      <td>0</td>\n",
       "      <td>No</td>\n",
       "    </tr>\n",
       "    <tr>\n",
       "      <th>2</th>\n",
       "      <td>45500.0</td>\n",
       "      <td>0</td>\n",
       "      <td>No</td>\n",
       "    </tr>\n",
       "    <tr>\n",
       "      <th>3</th>\n",
       "      <td>35782.0</td>\n",
       "      <td>2</td>\n",
       "      <td>No</td>\n",
       "    </tr>\n",
       "    <tr>\n",
       "      <th>4</th>\n",
       "      <td>34731.0</td>\n",
       "      <td>2</td>\n",
       "      <td>No</td>\n",
       "    </tr>\n",
       "    <tr>\n",
       "      <th>...</th>\n",
       "      <td>...</td>\n",
       "      <td>...</td>\n",
       "      <td>...</td>\n",
       "    </tr>\n",
       "    <tr>\n",
       "      <th>407</th>\n",
       "      <td>35000.0</td>\n",
       "      <td>0</td>\n",
       "      <td>No</td>\n",
       "    </tr>\n",
       "    <tr>\n",
       "      <th>408</th>\n",
       "      <td>36833.0</td>\n",
       "      <td>3</td>\n",
       "      <td>No</td>\n",
       "    </tr>\n",
       "    <tr>\n",
       "      <th>409</th>\n",
       "      <td>31000.0</td>\n",
       "      <td>0</td>\n",
       "      <td>No</td>\n",
       "    </tr>\n",
       "    <tr>\n",
       "      <th>410</th>\n",
       "      <td>31577.0</td>\n",
       "      <td>3</td>\n",
       "      <td>No</td>\n",
       "    </tr>\n",
       "    <tr>\n",
       "      <th>411</th>\n",
       "      <td>34206.0</td>\n",
       "      <td>2</td>\n",
       "      <td>No</td>\n",
       "    </tr>\n",
       "  </tbody>\n",
       "</table>\n",
       "<p>410 rows × 3 columns</p>\n",
       "</div>"
      ],
      "text/plain": [
       "        salary  yearsworked Is_it_an_extreme\n",
       "index                                       \n",
       "0      53000.0            0               No\n",
       "1      58000.0            0               No\n",
       "2      45500.0            0               No\n",
       "3      35782.0            2               No\n",
       "4      34731.0            2               No\n",
       "...        ...          ...              ...\n",
       "407    35000.0            0               No\n",
       "408    36833.0            3               No\n",
       "409    31000.0            0               No\n",
       "410    31577.0            3               No\n",
       "411    34206.0            2               No\n",
       "\n",
       "[410 rows x 3 columns]"
      ]
     },
     "execution_count": 7,
     "metadata": {},
     "output_type": "execute_result"
    }
   ],
   "source": [
    "df_train=df_train.drop(377)\n",
    "df_train"
   ]
  },
  {
   "cell_type": "code",
   "execution_count": 8,
   "metadata": {},
   "outputs": [
    {
     "data": {
      "text/html": [
       "<div>\n",
       "<style scoped>\n",
       "    .dataframe tbody tr th:only-of-type {\n",
       "        vertical-align: middle;\n",
       "    }\n",
       "\n",
       "    .dataframe tbody tr th {\n",
       "        vertical-align: top;\n",
       "    }\n",
       "\n",
       "    .dataframe thead th {\n",
       "        text-align: right;\n",
       "    }\n",
       "</style>\n",
       "<table border=\"1\" class=\"dataframe\">\n",
       "  <thead>\n",
       "    <tr style=\"text-align: right;\">\n",
       "      <th></th>\n",
       "      <th>salary</th>\n",
       "      <th>yearsworked</th>\n",
       "      <th>Is_it_an_extreme</th>\n",
       "    </tr>\n",
       "    <tr>\n",
       "      <th>index</th>\n",
       "      <th></th>\n",
       "      <th></th>\n",
       "      <th></th>\n",
       "    </tr>\n",
       "  </thead>\n",
       "  <tbody>\n",
       "    <tr>\n",
       "      <th>481</th>\n",
       "      <td>69654.33594</td>\n",
       "      <td>17</td>\n",
       "      <td>Yes</td>\n",
       "    </tr>\n",
       "  </tbody>\n",
       "</table>\n",
       "</div>"
      ],
      "text/plain": [
       "            salary  yearsworked Is_it_an_extreme\n",
       "index                                           \n",
       "481    69654.33594           17              Yes"
      ]
     },
     "execution_count": 8,
     "metadata": {},
     "output_type": "execute_result"
    }
   ],
   "source": [
    "df_test['Is_it_an_extreme'] = ['Yes' if i < test_lower_bound else 'Yes' if i > test_upper_bound else \"No\" for i in df_test.salary]\n",
    "df_test_outliers = df_test[df_test.Is_it_an_extreme == 'Yes']\n",
    "df_test_outliers"
   ]
  },
  {
   "cell_type": "code",
   "execution_count": 9,
   "metadata": {},
   "outputs": [
    {
     "data": {
      "text/html": [
       "<div>\n",
       "<style scoped>\n",
       "    .dataframe tbody tr th:only-of-type {\n",
       "        vertical-align: middle;\n",
       "    }\n",
       "\n",
       "    .dataframe tbody tr th {\n",
       "        vertical-align: top;\n",
       "    }\n",
       "\n",
       "    .dataframe thead th {\n",
       "        text-align: right;\n",
       "    }\n",
       "</style>\n",
       "<table border=\"1\" class=\"dataframe\">\n",
       "  <thead>\n",
       "    <tr style=\"text-align: right;\">\n",
       "      <th></th>\n",
       "      <th>salary</th>\n",
       "      <th>yearsworked</th>\n",
       "      <th>Is_it_an_extreme</th>\n",
       "    </tr>\n",
       "    <tr>\n",
       "      <th>index</th>\n",
       "      <th></th>\n",
       "      <th></th>\n",
       "      <th></th>\n",
       "    </tr>\n",
       "  </thead>\n",
       "  <tbody>\n",
       "    <tr>\n",
       "      <th>412</th>\n",
       "      <td>35574.0</td>\n",
       "      <td>4</td>\n",
       "      <td>No</td>\n",
       "    </tr>\n",
       "    <tr>\n",
       "      <th>413</th>\n",
       "      <td>59000.0</td>\n",
       "      <td>0</td>\n",
       "      <td>No</td>\n",
       "    </tr>\n",
       "    <tr>\n",
       "      <th>414</th>\n",
       "      <td>47344.0</td>\n",
       "      <td>3</td>\n",
       "      <td>No</td>\n",
       "    </tr>\n",
       "    <tr>\n",
       "      <th>415</th>\n",
       "      <td>35000.0</td>\n",
       "      <td>3</td>\n",
       "      <td>No</td>\n",
       "    </tr>\n",
       "    <tr>\n",
       "      <th>416</th>\n",
       "      <td>40000.0</td>\n",
       "      <td>3</td>\n",
       "      <td>No</td>\n",
       "    </tr>\n",
       "    <tr>\n",
       "      <th>...</th>\n",
       "      <td>...</td>\n",
       "      <td>...</td>\n",
       "      <td>...</td>\n",
       "    </tr>\n",
       "    <tr>\n",
       "      <th>509</th>\n",
       "      <td>45906.0</td>\n",
       "      <td>17</td>\n",
       "      <td>No</td>\n",
       "    </tr>\n",
       "    <tr>\n",
       "      <th>510</th>\n",
       "      <td>60402.0</td>\n",
       "      <td>19</td>\n",
       "      <td>No</td>\n",
       "    </tr>\n",
       "    <tr>\n",
       "      <th>511</th>\n",
       "      <td>53187.0</td>\n",
       "      <td>7</td>\n",
       "      <td>No</td>\n",
       "    </tr>\n",
       "    <tr>\n",
       "      <th>512</th>\n",
       "      <td>56542.0</td>\n",
       "      <td>20</td>\n",
       "      <td>No</td>\n",
       "    </tr>\n",
       "    <tr>\n",
       "      <th>513</th>\n",
       "      <td>52662.0</td>\n",
       "      <td>25</td>\n",
       "      <td>No</td>\n",
       "    </tr>\n",
       "  </tbody>\n",
       "</table>\n",
       "<p>101 rows × 3 columns</p>\n",
       "</div>"
      ],
      "text/plain": [
       "        salary  yearsworked Is_it_an_extreme\n",
       "index                                       \n",
       "412    35574.0            4               No\n",
       "413    59000.0            0               No\n",
       "414    47344.0            3               No\n",
       "415    35000.0            3               No\n",
       "416    40000.0            3               No\n",
       "...        ...          ...              ...\n",
       "509    45906.0           17               No\n",
       "510    60402.0           19               No\n",
       "511    53187.0            7               No\n",
       "512    56542.0           20               No\n",
       "513    52662.0           25               No\n",
       "\n",
       "[101 rows x 3 columns]"
      ]
     },
     "execution_count": 9,
     "metadata": {},
     "output_type": "execute_result"
    }
   ],
   "source": [
    "df_test.drop(481)"
   ]
  },
  {
   "cell_type": "markdown",
   "metadata": {},
   "source": [
    "#### Below is a summary statistics showing the statistics for every column in the data frame\n",
    "\n",
    "\n"
   ]
  },
  {
   "cell_type": "code",
   "execution_count": 10,
   "metadata": {},
   "outputs": [
    {
     "data": {
      "text/html": [
       "<div>\n",
       "<style scoped>\n",
       "    .dataframe tbody tr th:only-of-type {\n",
       "        vertical-align: middle;\n",
       "    }\n",
       "\n",
       "    .dataframe tbody tr th {\n",
       "        vertical-align: top;\n",
       "    }\n",
       "\n",
       "    .dataframe thead th {\n",
       "        text-align: right;\n",
       "    }\n",
       "</style>\n",
       "<table border=\"1\" class=\"dataframe\">\n",
       "  <thead>\n",
       "    <tr style=\"text-align: right;\">\n",
       "      <th></th>\n",
       "      <th>salary</th>\n",
       "      <th>exprior</th>\n",
       "      <th>yearsworked</th>\n",
       "      <th>yearsrank</th>\n",
       "      <th>market</th>\n",
       "      <th>degree</th>\n",
       "      <th>otherqual</th>\n",
       "      <th>years_absent</th>\n",
       "    </tr>\n",
       "  </thead>\n",
       "  <tbody>\n",
       "    <tr>\n",
       "      <th>count</th>\n",
       "      <td>513.000000</td>\n",
       "      <td>513.000000</td>\n",
       "      <td>513.000000</td>\n",
       "      <td>513.000000</td>\n",
       "      <td>513.000000</td>\n",
       "      <td>513.000000</td>\n",
       "      <td>513.000000</td>\n",
       "      <td>513.000000</td>\n",
       "    </tr>\n",
       "    <tr>\n",
       "      <th>mean</th>\n",
       "      <td>50863.220098</td>\n",
       "      <td>2.931774</td>\n",
       "      <td>12.836257</td>\n",
       "      <td>7.046784</td>\n",
       "      <td>0.948558</td>\n",
       "      <td>0.964912</td>\n",
       "      <td>0.044834</td>\n",
       "      <td>6.994152</td>\n",
       "    </tr>\n",
       "    <tr>\n",
       "      <th>std</th>\n",
       "      <td>12685.132358</td>\n",
       "      <td>4.794327</td>\n",
       "      <td>9.447040</td>\n",
       "      <td>6.419708</td>\n",
       "      <td>0.149524</td>\n",
       "      <td>0.184181</td>\n",
       "      <td>0.207142</td>\n",
       "      <td>16.887552</td>\n",
       "    </tr>\n",
       "    <tr>\n",
       "      <th>min</th>\n",
       "      <td>29000.000000</td>\n",
       "      <td>0.000000</td>\n",
       "      <td>0.000000</td>\n",
       "      <td>0.000000</td>\n",
       "      <td>0.710000</td>\n",
       "      <td>0.000000</td>\n",
       "      <td>0.000000</td>\n",
       "      <td>0.000000</td>\n",
       "    </tr>\n",
       "    <tr>\n",
       "      <th>25%</th>\n",
       "      <td>40000.000000</td>\n",
       "      <td>0.000000</td>\n",
       "      <td>4.000000</td>\n",
       "      <td>2.000000</td>\n",
       "      <td>0.840000</td>\n",
       "      <td>1.000000</td>\n",
       "      <td>0.000000</td>\n",
       "      <td>0.000000</td>\n",
       "    </tr>\n",
       "    <tr>\n",
       "      <th>50%</th>\n",
       "      <td>50096.000000</td>\n",
       "      <td>1.000000</td>\n",
       "      <td>12.000000</td>\n",
       "      <td>5.000000</td>\n",
       "      <td>0.920000</td>\n",
       "      <td>1.000000</td>\n",
       "      <td>0.000000</td>\n",
       "      <td>1.000000</td>\n",
       "    </tr>\n",
       "    <tr>\n",
       "      <th>75%</th>\n",
       "      <td>60345.000000</td>\n",
       "      <td>4.000000</td>\n",
       "      <td>22.000000</td>\n",
       "      <td>12.000000</td>\n",
       "      <td>1.020000</td>\n",
       "      <td>1.000000</td>\n",
       "      <td>0.000000</td>\n",
       "      <td>2.000000</td>\n",
       "    </tr>\n",
       "    <tr>\n",
       "      <th>max</th>\n",
       "      <td>96156.000000</td>\n",
       "      <td>25.000000</td>\n",
       "      <td>41.000000</td>\n",
       "      <td>28.000000</td>\n",
       "      <td>1.330000</td>\n",
       "      <td>1.000000</td>\n",
       "      <td>1.000000</td>\n",
       "      <td>118.000000</td>\n",
       "    </tr>\n",
       "  </tbody>\n",
       "</table>\n",
       "</div>"
      ],
      "text/plain": [
       "             salary     exprior  yearsworked   yearsrank      market  \\\n",
       "count    513.000000  513.000000   513.000000  513.000000  513.000000   \n",
       "mean   50863.220098    2.931774    12.836257    7.046784    0.948558   \n",
       "std    12685.132358    4.794327     9.447040    6.419708    0.149524   \n",
       "min    29000.000000    0.000000     0.000000    0.000000    0.710000   \n",
       "25%    40000.000000    0.000000     4.000000    2.000000    0.840000   \n",
       "50%    50096.000000    1.000000    12.000000    5.000000    0.920000   \n",
       "75%    60345.000000    4.000000    22.000000   12.000000    1.020000   \n",
       "max    96156.000000   25.000000    41.000000   28.000000    1.330000   \n",
       "\n",
       "           degree   otherqual  years_absent  \n",
       "count  513.000000  513.000000    513.000000  \n",
       "mean     0.964912    0.044834      6.994152  \n",
       "std      0.184181    0.207142     16.887552  \n",
       "min      0.000000    0.000000      0.000000  \n",
       "25%      1.000000    0.000000      0.000000  \n",
       "50%      1.000000    0.000000      1.000000  \n",
       "75%      1.000000    0.000000      2.000000  \n",
       "max      1.000000    1.000000    118.000000  "
      ]
     },
     "execution_count": 10,
     "metadata": {},
     "output_type": "execute_result"
    }
   ],
   "source": [
    "df_salary.describe()"
   ]
  },
  {
   "cell_type": "markdown",
   "metadata": {},
   "source": [
    "### 1.3 Histograms to show the distribution of the variables "
   ]
  },
  {
   "cell_type": "code",
   "execution_count": 11,
   "metadata": {},
   "outputs": [
    {
     "data": {
      "image/png": "[encoded data removed]",
      "text/plain": [
       "<Figure size 432x288 with 1 Axes>"
      ]
     },
     "metadata": {},
     "output_type": "display_data"
    }
   ],
   "source": [
    "sns.set()\n",
    "\n",
    "plt.hist(df_train.yearsworked, bins=20)\n",
    "\n",
    "plt.title('Histogram that shows the distribution of Years worked', fontsize=16)\n",
    "plt.xlabel('Years Worked')\n",
    "plt.ylabel('Frequency')\n",
    "plt.show()"
   ]
  },
  {
   "cell_type": "markdown",
   "metadata": {},
   "source": [
    "### 1.4 Scatterplot showing the relationship between Years Worked and Salary"
   ]
  },
  {
   "cell_type": "code",
   "execution_count": 12,
   "metadata": {},
   "outputs": [
    {
     "data": {
      "image/png": "[encoded data removed]",
      "text/plain": [
       "<Figure size 432x288 with 1 Axes>"
      ]
     },
     "metadata": {},
     "output_type": "display_data"
    }
   ],
   "source": [
    "sns.set()\n",
    "sns.regplot(x='yearsworked', y='salary', data=df_train, scatter_kws={\"color\": \"orange\"}, line_kws={\"color\": \"Yellow\"})\n",
    "plt.title('Scatter plot showing the relationship between salary and years worked', fontsize=16)\n",
    "plt.show()"
   ]
  },
  {
   "cell_type": "markdown",
   "metadata": {},
   "source": [
    "### 2.  Using the statsmodels package and the training data, run a simple linear regression for Salary"
   ]
  },
  {
   "cell_type": "code",
   "execution_count": 13,
   "metadata": {},
   "outputs": [
    {
     "data": {
      "text/plain": [
       "Intercept      40911.267461\n",
       "yearsworked      840.256455\n",
       "dtype: float64"
      ]
     },
     "execution_count": 13,
     "metadata": {},
     "output_type": "execute_result"
    }
   ],
   "source": [
    "import statsmodels.formula.api as smf\n",
    "# create a fitted model in one line\n",
    "model = smf.ols(formula='salary ~ yearsworked', data=df_train).fit()\n",
    "# print the coefficients\n",
    "model.params"
   ]
  },
  {
   "cell_type": "code",
   "execution_count": 14,
   "metadata": {},
   "outputs": [
    {
     "name": "stdout",
     "output_type": "stream",
     "text": [
      "A 1 year increase in a year worked will result in salary increase equal to the slope of the model\n"
     ]
    }
   ],
   "source": [
    "print('A 1 year increase in a year worked will result in salary increase equal to the slope of the model')"
   ]
  },
  {
   "cell_type": "code",
   "execution_count": 15,
   "metadata": {},
   "outputs": [
    {
     "data": {
      "text/plain": [
       "(0.6450850091280738, 1.2973034081977495e-49)"
      ]
     },
     "execution_count": 15,
     "metadata": {},
     "output_type": "execute_result"
    }
   ],
   "source": [
    "df_train['salary']=df_train.fillna(0)\n",
    "coeffs = scipy.pearsonr(df_train.salary,df_train.yearsworked)\n",
    "coeffs\n"
   ]
  },
  {
   "cell_type": "markdown",
   "metadata": {},
   "source": [
    "**R > 0.6** Means there is a positive correlation between the variables\n",
    "\n",
    "**R > 0.6** A moderate positive relationship\n",
    "\n",
    "The correlation coefficient suggest that the data follows a linear relationship and it is normally distributed. The correlation coefficient is closer to 1 than it is to 0 which shows a moderate positive relationship between the two variables.\n",
    "\n",
    "The **p_value** is too small and indicates strong evidence against the null hypothesis that the relationship between the variables is statistically significant since it is smaller than the *threshold* of the *P_value* of **p= 0.05**."
   ]
  },
  {
   "cell_type": "code",
   "execution_count": 16,
   "metadata": {},
   "outputs": [
    {
     "name": "stdout",
     "output_type": "stream",
     "text": [
      "0.42250000000000004  Shows that  42.25000000000001 % of the data fits the model or that amount of employees’ salaries is accounted for by the number of years they have worked. Also, R_squared is known as a coefficient of determination\n"
     ]
    }
   ],
   "source": [
    "#R^2 \n",
    "\n",
    "coeffs[0]**2\n",
    "print(round(coeffs[0],2)**2, ' Shows that ',(round(coeffs[0],2)**2)*100,'% of the data fits the model or that amount of employees’ salaries is accounted for by the number of years they have worked. Also, R_squared is known as a coefficient of determination' )"
   ]
  },
  {
   "cell_type": "markdown",
   "metadata": {},
   "source": [
    "### 3. Meaning of a confidence interval"
   ]
  },
  {
   "cell_type": "code",
   "execution_count": 17,
   "metadata": {},
   "outputs": [
    {
     "data": {
      "text/html": [
       "<div>\n",
       "<style scoped>\n",
       "    .dataframe tbody tr th:only-of-type {\n",
       "        vertical-align: middle;\n",
       "    }\n",
       "\n",
       "    .dataframe tbody tr th {\n",
       "        vertical-align: top;\n",
       "    }\n",
       "\n",
       "    .dataframe thead th {\n",
       "        text-align: right;\n",
       "    }\n",
       "</style>\n",
       "<table border=\"1\" class=\"dataframe\">\n",
       "  <thead>\n",
       "    <tr style=\"text-align: right;\">\n",
       "      <th></th>\n",
       "      <th>0</th>\n",
       "      <th>1</th>\n",
       "    </tr>\n",
       "  </thead>\n",
       "  <tbody>\n",
       "    <tr>\n",
       "      <th>Intercept</th>\n",
       "      <td>39288.697950</td>\n",
       "      <td>42533.836972</td>\n",
       "    </tr>\n",
       "    <tr>\n",
       "      <th>yearsworked</th>\n",
       "      <td>743.393106</td>\n",
       "      <td>937.119803</td>\n",
       "    </tr>\n",
       "  </tbody>\n",
       "</table>\n",
       "</div>"
      ],
      "text/plain": [
       "                        0             1\n",
       "Intercept    39288.697950  42533.836972\n",
       "yearsworked    743.393106    937.119803"
      ]
     },
     "execution_count": 17,
     "metadata": {},
     "output_type": "execute_result"
    }
   ],
   "source": [
    "# print the confidence intervals for the model coefficients\n",
    "model.conf_int()"
   ]
  },
  {
   "cell_type": "markdown",
   "metadata": {},
   "source": [
    "**From this, we can deduce that the true coefficient value of the salary population, will between these intervals. Simply put, if thousands of samples from a population was formed, this condition will hold 95% of the time.**\n",
    "\n",
    "**This is a common shorthand for the idea that the calculations “work” 95% of the time. Only 5 % will this be not the case**"
   ]
  },
  {
   "cell_type": "markdown",
   "metadata": {},
   "source": [
    "### 5. Calculate the expected salary for someone with 12 and 80 years’ work experience."
   ]
  },
  {
   "cell_type": "code",
   "execution_count": 18,
   "metadata": {},
   "outputs": [
    {
     "data": {
      "text/plain": [
       "0    50994.344919\n",
       "dtype: float64"
      ]
     },
     "execution_count": 18,
     "metadata": {},
     "output_type": "execute_result"
    }
   ],
   "source": [
    "#Estimating a person that worked for 12 years\n",
    "\n",
    "x = pd.DataFrame({'yearsworked':[12]})\n",
    "model.predict(x)"
   ]
  },
  {
   "cell_type": "code",
   "execution_count": 19,
   "metadata": {},
   "outputs": [
    {
     "data": {
      "text/plain": [
       "0    108131.783846\n",
       "dtype: float64"
      ]
     },
     "execution_count": 19,
     "metadata": {},
     "output_type": "execute_result"
    }
   ],
   "source": [
    "y = pd.DataFrame({'yearsworked':[80]})\n",
    "model.predict(y)"
   ]
  },
  {
   "cell_type": "code",
   "execution_count": 20,
   "metadata": {},
   "outputs": [
    {
     "data": {
      "text/plain": [
       "'Maximum years worked(in numbers) 41'"
      ]
     },
     "execution_count": 20,
     "metadata": {},
     "output_type": "execute_result"
    }
   ],
   "source": [
    "f'Maximum years worked(in numbers) %s' %df_salary.yearsworked.max()"
   ]
  },
  {
   "cell_type": "markdown",
   "metadata": {},
   "source": [
    "As per the model, it predicts that person who has worked for 12 years will earn, on average, the salary above. This value is interesting because the salary is not far off from the mean. This is because the mean for years worked is just over 12 years, meaning, on average, an employee at this company is to be expected to have worked for 12 years.\n",
    "\n",
    "Yes there also seem to be a problem, the model predicts the salary level that is bigger than the maximum salary in the data set. The model assumes that people can work indefinetly and hence the prediction, in reality, rarely does a person spend 80 years in the workforce. Even in the data set the person who have worked longer than the rest only worked for 41 years."
   ]
  },
  {
   "cell_type": "markdown",
   "metadata": {},
   "source": [
    "### 7. What other employee characteristics might influence their salary"
   ]
  },
  {
   "cell_type": "code",
   "execution_count": 21,
   "metadata": {},
   "outputs": [
    {
     "data": {
      "text/html": [
       "<div>\n",
       "<style scoped>\n",
       "    .dataframe tbody tr th:only-of-type {\n",
       "        vertical-align: middle;\n",
       "    }\n",
       "\n",
       "    .dataframe tbody tr th {\n",
       "        vertical-align: top;\n",
       "    }\n",
       "\n",
       "    .dataframe thead th {\n",
       "        text-align: right;\n",
       "    }\n",
       "</style>\n",
       "<table border=\"1\" class=\"dataframe\">\n",
       "  <thead>\n",
       "    <tr style=\"text-align: right;\">\n",
       "      <th></th>\n",
       "      <th>salary</th>\n",
       "      <th>exprior</th>\n",
       "      <th>yearsworked</th>\n",
       "      <th>yearsrank</th>\n",
       "      <th>market</th>\n",
       "      <th>degree</th>\n",
       "      <th>otherqual</th>\n",
       "      <th>years_absent</th>\n",
       "    </tr>\n",
       "  </thead>\n",
       "  <tbody>\n",
       "    <tr>\n",
       "      <th>salary</th>\n",
       "      <td>1.000000</td>\n",
       "      <td>0.119989</td>\n",
       "      <td>0.623589</td>\n",
       "      <td>0.610706</td>\n",
       "      <td>0.407214</td>\n",
       "      <td>0.044554</td>\n",
       "      <td>0.167137</td>\n",
       "      <td>-0.069630</td>\n",
       "    </tr>\n",
       "    <tr>\n",
       "      <th>exprior</th>\n",
       "      <td>0.119989</td>\n",
       "      <td>1.000000</td>\n",
       "      <td>-0.245788</td>\n",
       "      <td>-0.065893</td>\n",
       "      <td>-0.035202</td>\n",
       "      <td>-0.049165</td>\n",
       "      <td>0.264655</td>\n",
       "      <td>0.132022</td>\n",
       "    </tr>\n",
       "    <tr>\n",
       "      <th>yearsworked</th>\n",
       "      <td>0.623589</td>\n",
       "      <td>-0.245788</td>\n",
       "      <td>1.000000</td>\n",
       "      <td>0.813456</td>\n",
       "      <td>-0.070740</td>\n",
       "      <td>0.028122</td>\n",
       "      <td>-0.040157</td>\n",
       "      <td>0.056113</td>\n",
       "    </tr>\n",
       "    <tr>\n",
       "      <th>yearsrank</th>\n",
       "      <td>0.610706</td>\n",
       "      <td>-0.065893</td>\n",
       "      <td>0.813456</td>\n",
       "      <td>1.000000</td>\n",
       "      <td>-0.026869</td>\n",
       "      <td>0.006347</td>\n",
       "      <td>0.007232</td>\n",
       "      <td>0.035962</td>\n",
       "    </tr>\n",
       "    <tr>\n",
       "      <th>market</th>\n",
       "      <td>0.407214</td>\n",
       "      <td>-0.035202</td>\n",
       "      <td>-0.070740</td>\n",
       "      <td>-0.026869</td>\n",
       "      <td>1.000000</td>\n",
       "      <td>0.036456</td>\n",
       "      <td>0.021641</td>\n",
       "      <td>-0.167177</td>\n",
       "    </tr>\n",
       "    <tr>\n",
       "      <th>degree</th>\n",
       "      <td>0.044554</td>\n",
       "      <td>-0.049165</td>\n",
       "      <td>0.028122</td>\n",
       "      <td>0.006347</td>\n",
       "      <td>0.036456</td>\n",
       "      <td>1.000000</td>\n",
       "      <td>-0.214654</td>\n",
       "      <td>0.029447</td>\n",
       "    </tr>\n",
       "    <tr>\n",
       "      <th>otherqual</th>\n",
       "      <td>0.167137</td>\n",
       "      <td>0.264655</td>\n",
       "      <td>-0.040157</td>\n",
       "      <td>0.007232</td>\n",
       "      <td>0.021641</td>\n",
       "      <td>-0.214654</td>\n",
       "      <td>1.000000</td>\n",
       "      <td>-0.017792</td>\n",
       "    </tr>\n",
       "    <tr>\n",
       "      <th>years_absent</th>\n",
       "      <td>-0.069630</td>\n",
       "      <td>0.132022</td>\n",
       "      <td>0.056113</td>\n",
       "      <td>0.035962</td>\n",
       "      <td>-0.167177</td>\n",
       "      <td>0.029447</td>\n",
       "      <td>-0.017792</td>\n",
       "      <td>1.000000</td>\n",
       "    </tr>\n",
       "  </tbody>\n",
       "</table>\n",
       "</div>"
      ],
      "text/plain": [
       "                salary   exprior  yearsworked  yearsrank    market    degree  \\\n",
       "salary        1.000000  0.119989     0.623589   0.610706  0.407214  0.044554   \n",
       "exprior       0.119989  1.000000    -0.245788  -0.065893 -0.035202 -0.049165   \n",
       "yearsworked   0.623589 -0.245788     1.000000   0.813456 -0.070740  0.028122   \n",
       "yearsrank     0.610706 -0.065893     0.813456   1.000000 -0.026869  0.006347   \n",
       "market        0.407214 -0.035202    -0.070740  -0.026869  1.000000  0.036456   \n",
       "degree        0.044554 -0.049165     0.028122   0.006347  0.036456  1.000000   \n",
       "otherqual     0.167137  0.264655    -0.040157   0.007232  0.021641 -0.214654   \n",
       "years_absent -0.069630  0.132022     0.056113   0.035962 -0.167177  0.029447   \n",
       "\n",
       "              otherqual  years_absent  \n",
       "salary         0.167137     -0.069630  \n",
       "exprior        0.264655      0.132022  \n",
       "yearsworked   -0.040157      0.056113  \n",
       "yearsrank      0.007232      0.035962  \n",
       "market         0.021641     -0.167177  \n",
       "degree        -0.214654      0.029447  \n",
       "otherqual      1.000000     -0.017792  \n",
       "years_absent  -0.017792      1.000000  "
      ]
     },
     "execution_count": 21,
     "metadata": {},
     "output_type": "execute_result"
    }
   ],
   "source": [
    "df_salary.corr()"
   ]
  },
  {
   "cell_type": "markdown",
   "metadata": {},
   "source": [
    " This is how others are correlated with salary:\n",
    "\n",
    "1. **Rank on salary**\n",
    "Moderate positive correlation\n",
    "2. **Experience**\n",
    "Very Weak positive correlation\n",
    "3. **Market**\n",
    "Weak Positive correlation\n",
    "4. **Degree**\n",
    "5. Very weak positive correlation\n",
    "6. **Other Qualification**\n",
    "7. Ver weak positive correlation\n",
    "8. **Years absent**\n",
    "Negative correlation"
   ]
  },
  {
   "cell_type": "code",
   "execution_count": 22,
   "metadata": {},
   "outputs": [
    {
     "name": "stdout",
     "output_type": "stream",
     "text": [
      "Below is the OLS regressionn summary:\n"
     ]
    },
    {
     "data": {
      "text/html": [
       "<table class=\"simpletable\">\n",
       "<caption>OLS Regression Results</caption>\n",
       "<tr>\n",
       "  <th>Dep. Variable:</th>         <td>salary</td>      <th>  R-squared:         </th> <td>   0.416</td>\n",
       "</tr>\n",
       "<tr>\n",
       "  <th>Model:</th>                   <td>OLS</td>       <th>  Adj. R-squared:    </th> <td>   0.415</td>\n",
       "</tr>\n",
       "<tr>\n",
       "  <th>Method:</th>             <td>Least Squares</td>  <th>  F-statistic:       </th> <td>   290.8</td>\n",
       "</tr>\n",
       "<tr>\n",
       "  <th>Date:</th>             <td>Mon, 17 Feb 2020</td> <th>  Prob (F-statistic):</th> <td>1.30e-49</td>\n",
       "</tr>\n",
       "<tr>\n",
       "  <th>Time:</th>                 <td>10:07:06</td>     <th>  Log-Likelihood:    </th> <td> -4350.3</td>\n",
       "</tr>\n",
       "<tr>\n",
       "  <th>No. Observations:</th>      <td>   410</td>      <th>  AIC:               </th> <td>   8705.</td>\n",
       "</tr>\n",
       "<tr>\n",
       "  <th>Df Residuals:</th>          <td>   408</td>      <th>  BIC:               </th> <td>   8713.</td>\n",
       "</tr>\n",
       "<tr>\n",
       "  <th>Df Model:</th>              <td>     1</td>      <th>                     </th>     <td> </td>   \n",
       "</tr>\n",
       "<tr>\n",
       "  <th>Covariance Type:</th>      <td>nonrobust</td>    <th>                     </th>     <td> </td>   \n",
       "</tr>\n",
       "</table>\n",
       "<table class=\"simpletable\">\n",
       "<tr>\n",
       "       <td></td>          <th>coef</th>     <th>std err</th>      <th>t</th>      <th>P>|t|</th>  <th>[0.025</th>    <th>0.975]</th>  \n",
       "</tr>\n",
       "<tr>\n",
       "  <th>Intercept</th>   <td> 4.091e+04</td> <td>  825.401</td> <td>   49.565</td> <td> 0.000</td> <td> 3.93e+04</td> <td> 4.25e+04</td>\n",
       "</tr>\n",
       "<tr>\n",
       "  <th>yearsworked</th> <td>  840.2565</td> <td>   49.274</td> <td>   17.053</td> <td> 0.000</td> <td>  743.393</td> <td>  937.120</td>\n",
       "</tr>\n",
       "</table>\n",
       "<table class=\"simpletable\">\n",
       "<tr>\n",
       "  <th>Omnibus:</th>       <td>41.599</td> <th>  Durbin-Watson:     </th> <td>   1.785</td>\n",
       "</tr>\n",
       "<tr>\n",
       "  <th>Prob(Omnibus):</th> <td> 0.000</td> <th>  Jarque-Bera (JB):  </th> <td>  51.354</td>\n",
       "</tr>\n",
       "<tr>\n",
       "  <th>Skew:</th>          <td> 0.842</td> <th>  Prob(JB):          </th> <td>7.06e-12</td>\n",
       "</tr>\n",
       "<tr>\n",
       "  <th>Kurtosis:</th>      <td> 3.411</td> <th>  Cond. No.          </th> <td>    28.5</td>\n",
       "</tr>\n",
       "</table><br/><br/>Warnings:<br/>[1] Standard Errors assume that the covariance matrix of the errors is correctly specified."
      ],
      "text/plain": [
       "<class 'statsmodels.iolib.summary.Summary'>\n",
       "\"\"\"\n",
       "                            OLS Regression Results                            \n",
       "==============================================================================\n",
       "Dep. Variable:                 salary   R-squared:                       0.416\n",
       "Model:                            OLS   Adj. R-squared:                  0.415\n",
       "Method:                 Least Squares   F-statistic:                     290.8\n",
       "Date:                Mon, 17 Feb 2020   Prob (F-statistic):           1.30e-49\n",
       "Time:                        10:07:06   Log-Likelihood:                -4350.3\n",
       "No. Observations:                 410   AIC:                             8705.\n",
       "Df Residuals:                     408   BIC:                             8713.\n",
       "Df Model:                           1                                         \n",
       "Covariance Type:            nonrobust                                         \n",
       "===============================================================================\n",
       "                  coef    std err          t      P>|t|      [0.025      0.975]\n",
       "-------------------------------------------------------------------------------\n",
       "Intercept    4.091e+04    825.401     49.565      0.000    3.93e+04    4.25e+04\n",
       "yearsworked   840.2565     49.274     17.053      0.000     743.393     937.120\n",
       "==============================================================================\n",
       "Omnibus:                       41.599   Durbin-Watson:                   1.785\n",
       "Prob(Omnibus):                  0.000   Jarque-Bera (JB):               51.354\n",
       "Skew:                           0.842   Prob(JB):                     7.06e-12\n",
       "Kurtosis:                       3.411   Cond. No.                         28.5\n",
       "==============================================================================\n",
       "\n",
       "Warnings:\n",
       "[1] Standard Errors assume that the covariance matrix of the errors is correctly specified.\n",
       "\"\"\""
      ]
     },
     "execution_count": 22,
     "metadata": {},
     "output_type": "execute_result"
    }
   ],
   "source": [
    "print('Below is the OLS regressionn summary:')\n",
    "model.summary()\n"
   ]
  },
  {
   "cell_type": "markdown",
   "metadata": {},
   "source": [
    "### 8. How does your model compare when running it on the test set - what is the difference in the Root Mean Square Error (RMSE) between the training and test sets? Is there any evidence of overfitting?\n"
   ]
  },
  {
   "cell_type": "code",
   "execution_count": 23,
   "metadata": {},
   "outputs": [],
   "source": [
    "df_train_comp = model.predict(df_train)\n",
    "df_train_comp = pd.DataFrame(df_train_comp)\n",
    "df_train_comp.rename(columns={0:'Predicted','salary':'Actual'})\n",
    "df_train_comp['salary'] = df_train['salary']"
   ]
  },
  {
   "cell_type": "code",
   "execution_count": 24,
   "metadata": {},
   "outputs": [],
   "source": [
    "df_train_comp = df_train_comp.loc[:,['salary',0]]\n",
    "df_train_comp.rename(columns={0:'Predicted'})\n",
    "y_actual = df_train_comp.salary\n",
    "y_predicted = df_train_comp[0]\n",
    "from sklearn.metrics import mean_squared_error\n",
    "from math import sqrt\n",
    "rms_train = sqrt(mean_squared_error(y_actual,y_predicted))\n"
   ]
  },
  {
   "cell_type": "code",
   "execution_count": 25,
   "metadata": {},
   "outputs": [
    {
     "data": {
      "text/html": [
       "<div>\n",
       "<style scoped>\n",
       "    .dataframe tbody tr th:only-of-type {\n",
       "        vertical-align: middle;\n",
       "    }\n",
       "\n",
       "    .dataframe tbody tr th {\n",
       "        vertical-align: top;\n",
       "    }\n",
       "\n",
       "    .dataframe thead th {\n",
       "        text-align: right;\n",
       "    }\n",
       "</style>\n",
       "<table border=\"1\" class=\"dataframe\">\n",
       "  <thead>\n",
       "    <tr style=\"text-align: right;\">\n",
       "      <th></th>\n",
       "      <th>0</th>\n",
       "      <th>salary</th>\n",
       "    </tr>\n",
       "    <tr>\n",
       "      <th>index</th>\n",
       "      <th></th>\n",
       "      <th></th>\n",
       "    </tr>\n",
       "  </thead>\n",
       "  <tbody>\n",
       "    <tr>\n",
       "      <th>412</th>\n",
       "      <td>44272.293280</td>\n",
       "      <td>35574.0</td>\n",
       "    </tr>\n",
       "    <tr>\n",
       "      <th>413</th>\n",
       "      <td>40911.267461</td>\n",
       "      <td>59000.0</td>\n",
       "    </tr>\n",
       "    <tr>\n",
       "      <th>414</th>\n",
       "      <td>43432.036826</td>\n",
       "      <td>47344.0</td>\n",
       "    </tr>\n",
       "    <tr>\n",
       "      <th>415</th>\n",
       "      <td>43432.036826</td>\n",
       "      <td>35000.0</td>\n",
       "    </tr>\n",
       "    <tr>\n",
       "      <th>416</th>\n",
       "      <td>43432.036826</td>\n",
       "      <td>40000.0</td>\n",
       "    </tr>\n",
       "    <tr>\n",
       "      <th>...</th>\n",
       "      <td>...</td>\n",
       "      <td>...</td>\n",
       "    </tr>\n",
       "    <tr>\n",
       "      <th>509</th>\n",
       "      <td>55195.627193</td>\n",
       "      <td>45906.0</td>\n",
       "    </tr>\n",
       "    <tr>\n",
       "      <th>510</th>\n",
       "      <td>56876.140102</td>\n",
       "      <td>60402.0</td>\n",
       "    </tr>\n",
       "    <tr>\n",
       "      <th>511</th>\n",
       "      <td>46793.062645</td>\n",
       "      <td>53187.0</td>\n",
       "    </tr>\n",
       "    <tr>\n",
       "      <th>512</th>\n",
       "      <td>57716.396557</td>\n",
       "      <td>56542.0</td>\n",
       "    </tr>\n",
       "    <tr>\n",
       "      <th>513</th>\n",
       "      <td>61917.678831</td>\n",
       "      <td>52662.0</td>\n",
       "    </tr>\n",
       "  </tbody>\n",
       "</table>\n",
       "<p>102 rows × 2 columns</p>\n",
       "</div>"
      ],
      "text/plain": [
       "                  0   salary\n",
       "index                       \n",
       "412    44272.293280  35574.0\n",
       "413    40911.267461  59000.0\n",
       "414    43432.036826  47344.0\n",
       "415    43432.036826  35000.0\n",
       "416    43432.036826  40000.0\n",
       "...             ...      ...\n",
       "509    55195.627193  45906.0\n",
       "510    56876.140102  60402.0\n",
       "511    46793.062645  53187.0\n",
       "512    57716.396557  56542.0\n",
       "513    61917.678831  52662.0\n",
       "\n",
       "[102 rows x 2 columns]"
      ]
     },
     "execution_count": 25,
     "metadata": {},
     "output_type": "execute_result"
    }
   ],
   "source": [
    "df_test_comp = model.predict(df_test)\n",
    "df_test_comp = pd.DataFrame(df_test_comp)\n",
    "df_test_comp.rename(columns={0:'Predicted'})\n",
    "df_test_comp['salary'] = df_test['salary']\n",
    "df_test_comp.dropna()"
   ]
  },
  {
   "cell_type": "code",
   "execution_count": 26,
   "metadata": {},
   "outputs": [],
   "source": [
    "df_test_comp = df_test_comp.loc[:,['salary',0]]\n",
    "df_test_comp.rename(columns={0:'Predicted', 'salary':'Actual'})\n",
    "df_test.salary.fillna(df_test.salary.mean())\n",
    "y_actual1 = df_test_comp.salary\n",
    "y_predicted1 = df_test_comp[0]\n",
    "rms_test = sqrt(mean_squared_error(y_actual1,y_predicted1))\n",
    "rms_train = sqrt(mean_squared_error(y_actual,y_predicted))\n"
   ]
  },
  {
   "cell_type": "code",
   "execution_count": 27,
   "metadata": {},
   "outputs": [
    {
     "name": "stdout",
     "output_type": "stream",
     "text": [
      "The RMSE of the train data is:  9814.058549930498\n",
      "And The RMSE of the test data is:  9485.743462730115 which shows moderate to no signs of underfitting\n"
     ]
    }
   ],
   "source": [
    "print('The RMSE of the train data is: ',rms_train)\n",
    "print('And The RMSE of the test data is: ',rms_test,'which shows moderate to no signs of underfitting')"
   ]
  },
  {
   "cell_type": "code",
   "execution_count": null,
   "metadata": {},
   "outputs": [],
   "source": []
  }
 ],
 "metadata": {
  "kernelspec": {
   "display_name": "Python 3",
   "language": "python",
   "name": "python3"
  },
  "language_info": {
   "codemirror_mode": {
    "name": "ipython",
    "version": 3
   },
   "file_extension": ".py",
   "mimetype": "text/x-python",
   "name": "python",
   "nbconvert_exporter": "python",
   "pygments_lexer": "ipython3",
   "version": "3.7.4"
  }
 },
 "nbformat": 4,
 "nbformat_minor": 2
}
