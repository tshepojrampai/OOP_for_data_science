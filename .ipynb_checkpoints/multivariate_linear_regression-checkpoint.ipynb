{
 "cells": [
  {
   "cell_type": "markdown",
   "metadata": {},
   "source": [
    "### 0. Loading dependencies"
   ]
  },
  {
   "cell_type": "code",
   "execution_count": 1,
   "metadata": {},
   "outputs": [],
   "source": [
    "import pandas as pd\n",
    "import numpy as np \n",
    "import seaborn as sns\n",
    "import matplotlib.pyplot as plt\n",
    "import scipy.stats as scipy\n",
    "import statsmodels.formula.api as smf\n",
    "import random\n",
    "import plotly.graph_objects as go\n",
    "import plotly.express as px\n",
    "from scipy.stats import iqr\n",
    "from scipy.stats import pearsonr\n",
    "from sklearn.linear_model import LinearRegression\n",
    "from sklearn.model_selection import train_test_split\n",
    "import statsmodels.api as sm\n",
    "from statsmodels.tools.eval_measures import rmse\n",
    "import warnings\n",
    "# String styling\n",
    "class color:\n",
    "    BOLD = '\\033[1m'\n",
    "    UNDERLINE = '\\033[4m'\n",
    "    END = '\\033[0m'"
   ]
  },
  {
   "cell_type": "markdown",
   "metadata": {},
   "source": [
    "### 1.1 Data Preparation: Data Cleaning, Relabeling, Wrangling and splitting subset."
   ]
  },
  {
   "cell_type": "code",
   "execution_count": 2,
   "metadata": {
    "scrolled": true
   },
   "outputs": [
    {
     "data": {
      "text/html": [
       "<div>\n",
       "<style scoped>\n",
       "    .dataframe tbody tr th:only-of-type {\n",
       "        vertical-align: middle;\n",
       "    }\n",
       "\n",
       "    .dataframe tbody tr th {\n",
       "        vertical-align: top;\n",
       "    }\n",
       "\n",
       "    .dataframe thead th {\n",
       "        text-align: right;\n",
       "    }\n",
       "</style>\n",
       "<table border=\"1\" class=\"dataframe\">\n",
       "  <thead>\n",
       "    <tr style=\"text-align: right;\">\n",
       "      <th></th>\n",
       "      <th>salary</th>\n",
       "      <th>exprior</th>\n",
       "      <th>yearsworked</th>\n",
       "      <th>yearsrank</th>\n",
       "      <th>market</th>\n",
       "      <th>degree</th>\n",
       "      <th>otherqual</th>\n",
       "      <th>position</th>\n",
       "      <th>gender</th>\n",
       "      <th>Field</th>\n",
       "      <th>years_absent</th>\n",
       "    </tr>\n",
       "  </thead>\n",
       "  <tbody>\n",
       "    <tr>\n",
       "      <th>0</th>\n",
       "      <td>53000.0</td>\n",
       "      <td>0</td>\n",
       "      <td>0</td>\n",
       "      <td>0</td>\n",
       "      <td>1.17</td>\n",
       "      <td>1</td>\n",
       "      <td>0</td>\n",
       "      <td>Jnr_employee</td>\n",
       "      <td>male</td>\n",
       "      <td>Human Resource</td>\n",
       "      <td>0</td>\n",
       "    </tr>\n",
       "    <tr>\n",
       "      <th>1</th>\n",
       "      <td>58000.0</td>\n",
       "      <td>1</td>\n",
       "      <td>0</td>\n",
       "      <td>0</td>\n",
       "      <td>1.24</td>\n",
       "      <td>1</td>\n",
       "      <td>0</td>\n",
       "      <td>Jnr_employee</td>\n",
       "      <td>male</td>\n",
       "      <td>Finance</td>\n",
       "      <td>0</td>\n",
       "    </tr>\n",
       "    <tr>\n",
       "      <th>2</th>\n",
       "      <td>45500.0</td>\n",
       "      <td>0</td>\n",
       "      <td>0</td>\n",
       "      <td>0</td>\n",
       "      <td>1.21</td>\n",
       "      <td>1</td>\n",
       "      <td>0</td>\n",
       "      <td>Jnr_employee</td>\n",
       "      <td>male</td>\n",
       "      <td>Human Resource</td>\n",
       "      <td>2</td>\n",
       "    </tr>\n",
       "    <tr>\n",
       "      <th>3</th>\n",
       "      <td>35782.0</td>\n",
       "      <td>0</td>\n",
       "      <td>2</td>\n",
       "      <td>1</td>\n",
       "      <td>0.99</td>\n",
       "      <td>1</td>\n",
       "      <td>0</td>\n",
       "      <td>Jnr_employee</td>\n",
       "      <td>male</td>\n",
       "      <td>Marketing</td>\n",
       "      <td>1</td>\n",
       "    </tr>\n",
       "    <tr>\n",
       "      <th>4</th>\n",
       "      <td>34731.0</td>\n",
       "      <td>0</td>\n",
       "      <td>2</td>\n",
       "      <td>2</td>\n",
       "      <td>0.91</td>\n",
       "      <td>1</td>\n",
       "      <td>0</td>\n",
       "      <td>Jnr_employee</td>\n",
       "      <td>male</td>\n",
       "      <td>Marketing</td>\n",
       "      <td>1</td>\n",
       "    </tr>\n",
       "  </tbody>\n",
       "</table>\n",
       "</div>"
      ],
      "text/plain": [
       "    salary  exprior  yearsworked  yearsrank  market  degree  otherqual  \\\n",
       "0  53000.0        0            0          0    1.17       1          0   \n",
       "1  58000.0        1            0          0    1.24       1          0   \n",
       "2  45500.0        0            0          0    1.21       1          0   \n",
       "3  35782.0        0            2          1    0.99       1          0   \n",
       "4  34731.0        0            2          2    0.91       1          0   \n",
       "\n",
       "       position gender           Field  years_absent  \n",
       "0  Jnr_employee   male  Human Resource             0  \n",
       "1  Jnr_employee   male         Finance             0  \n",
       "2  Jnr_employee   male  Human Resource             2  \n",
       "3  Jnr_employee   male       Marketing             1  \n",
       "4  Jnr_employee   male       Marketing             1  "
      ]
     },
     "execution_count": 2,
     "metadata": {},
     "output_type": "execute_result"
    }
   ],
   "source": [
    "#Fill Nan values is salary column\n",
    "df_salary = pd.read_csv('dataset/salary.csv')\n",
    "df_salary = df_salary.fillna(df_salary.salary.mean())\n",
    "\n",
    "#Rename as per metadata\n",
    "df_salary =df_salary.rename(columns ={'male':'gender', 'experior':'Experience', 'yearsabs':'years_absent'})\n",
    "df_salary.gender = ['male' if i == 1 else 'female' for i in df_salary.gender]\n",
    "\n",
    "df_salary.position = ['Jnr_employee' if i == 1 else 'Manager' if  i == 2 \n",
    "                      else 'Executive' for i in df_salary.position]\n",
    "\n",
    "df_salary.Field = ['Engineering' if i == 1 else 'Finance' if i == 2\n",
    "                   else 'Human Resource' if i == 3 else 'Marketing' \n",
    "                   for i in df_salary.Field]    \n",
    "df_salary = pd.DataFrame(df_salary)\n",
    "df_salary.head()"
   ]
  },
  {
   "cell_type": "code",
   "execution_count": 3,
   "metadata": {
    "scrolled": true
   },
   "outputs": [
    {
     "data": {
      "text/html": [
       "<div>\n",
       "<style scoped>\n",
       "    .dataframe tbody tr th:only-of-type {\n",
       "        vertical-align: middle;\n",
       "    }\n",
       "\n",
       "    .dataframe tbody tr th {\n",
       "        vertical-align: top;\n",
       "    }\n",
       "\n",
       "    .dataframe thead th {\n",
       "        text-align: right;\n",
       "    }\n",
       "</style>\n",
       "<table border=\"1\" class=\"dataframe\">\n",
       "  <thead>\n",
       "    <tr style=\"text-align: right;\">\n",
       "      <th></th>\n",
       "      <th>salary</th>\n",
       "      <th>exprior</th>\n",
       "      <th>yearsworked</th>\n",
       "      <th>yearsrank</th>\n",
       "      <th>market</th>\n",
       "      <th>degree</th>\n",
       "      <th>otherqual</th>\n",
       "      <th>position</th>\n",
       "      <th>gender</th>\n",
       "      <th>Field</th>\n",
       "      <th>years_absent</th>\n",
       "    </tr>\n",
       "  </thead>\n",
       "  <tbody>\n",
       "    <tr>\n",
       "      <th>320</th>\n",
       "      <td>80137.00000</td>\n",
       "      <td>5</td>\n",
       "      <td>21</td>\n",
       "      <td>20</td>\n",
       "      <td>1.04</td>\n",
       "      <td>1</td>\n",
       "      <td>0</td>\n",
       "      <td>Executive</td>\n",
       "      <td>male</td>\n",
       "      <td>Finance</td>\n",
       "      <td>0</td>\n",
       "    </tr>\n",
       "    <tr>\n",
       "      <th>329</th>\n",
       "      <td>39777.00000</td>\n",
       "      <td>10</td>\n",
       "      <td>17</td>\n",
       "      <td>10</td>\n",
       "      <td>0.86</td>\n",
       "      <td>1</td>\n",
       "      <td>0</td>\n",
       "      <td>Manager</td>\n",
       "      <td>male</td>\n",
       "      <td>Human Resource</td>\n",
       "      <td>1</td>\n",
       "    </tr>\n",
       "    <tr>\n",
       "      <th>173</th>\n",
       "      <td>61453.00000</td>\n",
       "      <td>0</td>\n",
       "      <td>15</td>\n",
       "      <td>0</td>\n",
       "      <td>1.21</td>\n",
       "      <td>1</td>\n",
       "      <td>0</td>\n",
       "      <td>Manager</td>\n",
       "      <td>male</td>\n",
       "      <td>Engineering</td>\n",
       "      <td>0</td>\n",
       "    </tr>\n",
       "    <tr>\n",
       "      <th>272</th>\n",
       "      <td>53665.00000</td>\n",
       "      <td>0</td>\n",
       "      <td>25</td>\n",
       "      <td>12</td>\n",
       "      <td>0.92</td>\n",
       "      <td>1</td>\n",
       "      <td>0</td>\n",
       "      <td>Executive</td>\n",
       "      <td>male</td>\n",
       "      <td>Engineering</td>\n",
       "      <td>0</td>\n",
       "    </tr>\n",
       "    <tr>\n",
       "      <th>493</th>\n",
       "      <td>44410.85547</td>\n",
       "      <td>7</td>\n",
       "      <td>12</td>\n",
       "      <td>10</td>\n",
       "      <td>0.72</td>\n",
       "      <td>1</td>\n",
       "      <td>0</td>\n",
       "      <td>Manager</td>\n",
       "      <td>female</td>\n",
       "      <td>Human Resource</td>\n",
       "      <td>51</td>\n",
       "    </tr>\n",
       "  </tbody>\n",
       "</table>\n",
       "</div>"
      ],
      "text/plain": [
       "          salary  exprior  yearsworked  yearsrank  market  degree  otherqual  \\\n",
       "320  80137.00000        5           21         20    1.04       1          0   \n",
       "329  39777.00000       10           17         10    0.86       1          0   \n",
       "173  61453.00000        0           15          0    1.21       1          0   \n",
       "272  53665.00000        0           25         12    0.92       1          0   \n",
       "493  44410.85547        7           12         10    0.72       1          0   \n",
       "\n",
       "      position  gender           Field  years_absent  \n",
       "320  Executive    male         Finance             0  \n",
       "329    Manager    male  Human Resource             1  \n",
       "173    Manager    male     Engineering             0  \n",
       "272  Executive    male     Engineering             0  \n",
       "493    Manager  female  Human Resource            51  "
      ]
     },
     "execution_count": 3,
     "metadata": {},
     "output_type": "execute_result"
    }
   ],
   "source": [
    "#Splitting the data into df_train train and test set\n",
    "\n",
    "df_train, df_test = train_test_split(df_salary, test_size=0.2, random_state=42)\n",
    "df_train.head()"
   ]
  },
  {
   "cell_type": "markdown",
   "metadata": {},
   "source": [
    "## Analyze relationships"
   ]
  },
  {
   "cell_type": "code",
   "execution_count": null,
   "metadata": {},
   "outputs": [],
   "source": [
    "sns.pairplot(df_train)\n",
    "plt.show()"
   ]
  },
  {
   "cell_type": "markdown",
   "metadata": {},
   "source": [
    "## Checking and handling outliers"
   ]
  },
  {
   "cell_type": "code",
   "execution_count": null,
   "metadata": {},
   "outputs": [],
   "source": [
    "# Quartiles and IQR:df_train\n",
    "q75_train, q25_train = np.percentile(df_train['salary'], [75 ,25])\n",
    "iqr_train = q75_train - q25_train\n",
    "\n",
    "# Extremes' boundaries: df_train\n",
    "lower_bound = q25_train - iqr_train*1.5\n",
    "upper_bound = q75_train + iqr_train*1.5\n",
    "\n",
    "#Determining if an entry is an extreme or an outlier:df_train\n",
    "df_train['Is_it_an_extreme'] = ['Yes' if i < lower_bound else 'Yes' \n",
    "                                if i > upper_bound else \"No\" \n",
    "                                for i in df_train.salary]\n",
    "df_outliers = df_train[df_train.Is_it_an_extreme == 'Yes']\n",
    "\n",
    "#Dropping outliers\n",
    "df_train = df_train[df_train.Is_it_an_extreme != 'Yes']\n",
    "\n",
    "#df_train descriptive statistics\n",
    "# df_train.describe()"
   ]
  },
  {
   "cell_type": "markdown",
   "metadata": {},
   "source": [
    "### 2. Hot encoding Dummy variables for Field variable with Human Resource, Position with Executive and Gender with Females as references respectively"
   ]
  },
  {
   "cell_type": "code",
   "execution_count": null,
   "metadata": {},
   "outputs": [],
   "source": [
    "df_dummies =pd.get_dummies(df_train.Field).loc[:,['Engineering','Finance','Marketing']]\n",
    "df_dummies1 =pd.get_dummies(df_train.position).loc[:,['Jnr_employee','Manager']]\n",
    "df_dummies2 =pd.get_dummies(df_train.gender).loc[:,['male']]\n",
    "\n",
    "df_train = df_train.join(df_dummies)\n",
    "df_train = df_train.join(df_dummies1)\n",
    "df_train = df_train.join(df_dummies2)\n",
    "\n",
    "df_dummies3 =pd.get_dummies(df_test.Field).loc[:,['Engineering','Finance','Marketing']]\n",
    "df_dummies4 =pd.get_dummies(df_test.position).loc[:,['Jnr_employee','Manager']]\n",
    "df_dummies5 =pd.get_dummies(df_test.gender).loc[:,['male']]\n",
    "df_test = df_test.join(df_dummies3)\n",
    "df_test = df_test.join(df_dummies4)\n",
    "df_test = df_test.join(df_dummies5)\n"
   ]
  },
  {
   "cell_type": "markdown",
   "metadata": {},
   "source": [
    "### 3. correlation matrix comparing the relationship of salary to the predictor variables"
   ]
  },
  {
   "cell_type": "code",
   "execution_count": null,
   "metadata": {},
   "outputs": [],
   "source": [
    "df_train.corr(method='pearson').head(1)"
   ]
  },
  {
   "cell_type": "markdown",
   "metadata": {},
   "source": [
    "### Is there any multicollinearity or other problems that may be a problem in the multiple regression\n",
    "\n",
    "What the regression model is going to do is to disentangle the individual effects of years worked and years rank on salary. Given the opportunity that the regression model does tease apart these individual effects, such individual effects become obscured. Multicolinearity happens when the X variables are themselves related.\n",
    "\n",
    "This is a perfect description for multicolinearity, if **one year a experience is added**, the likelihood that one stays in that **rank for one more year** is close to 100%, similarly with **market value**, it is common knowledge that years of experience do actually increase the market value of an individual, so the regression model will have a very unrealistic way of analysing if the effect on salary was due to an increase in market value or due to one more year of experience or one more year of being in that particular rank. Therefore, drop years worked and years absent(the former because it is highly correlated with male but not with salary\n"
   ]
  },
  {
   "cell_type": "markdown",
   "metadata": {},
   "source": [
    "### 4. Model creation of salary prediction based on multivariables"
   ]
  },
  {
   "cell_type": "code",
   "execution_count": null,
   "metadata": {},
   "outputs": [],
   "source": [
    "import statsmodels.formula.api as smf\n",
    "# create a fitted model: salary vs Years worked _ Market + Years Rank\n",
    "variables = ['yearsworked' ,'market' ,'yearsrank','Engineering','Finance' ,'Marketing' ,'Jnr_employee', 'Manager']\n",
    "model= smf.ols(formula='salary ~ yearsworked + market + yearsrank+ Engineering + Finance + Marketing +Jnr_employee + Manager', data=df_train).fit()\n",
    "print(color.BOLD + \"This model has a higher R-squared (0.816) than the previous model's(0.708), This model provides a better fit to the data than a model that only one variable years worked\")\n",
    "model.summary()"
   ]
  },
  {
   "cell_type": "markdown",
   "metadata": {},
   "source": [
    "### Model Evaluation"
   ]
  },
  {
   "cell_type": "code",
   "execution_count": null,
   "metadata": {},
   "outputs": [],
   "source": [
    "#model1: predict salary using years worked\n",
    "df_train1 = model.predict(df_train)\n",
    "df_train1 = pd.DataFrame(df_train1)\n",
    "\n",
    "#Mapping 2 columns: Observed salary together with Predicted salary\n",
    "df_train1['Actual Salary'] = df_train['salary']\n",
    "df_train1= df_train1.rename(columns={0:'Predicted Salary'})\n",
    "df_train1['Actual Salary'] = df_train1['Actual Salary'].astype(float)\n",
    "df_train1['Predicted Salary'] = df_train1['Predicted Salary'].astype(float)\n",
    "\n",
    "\n"
   ]
  },
  {
   "cell_type": "markdown",
   "metadata": {},
   "source": [
    "### 5.1 Residuals"
   ]
  },
  {
   "cell_type": "code",
   "execution_count": null,
   "metadata": {},
   "outputs": [],
   "source": [
    "#Creating a residual column( a residual vertical distance between a data point and the regression line)\n",
    "df_train1['Residual'] = (df_train1['Actual Salary'] - df_train1['Predicted Salary'])\n",
    "\n",
    "#calculating the RMSE\n",
    "from sklearn.metrics import mean_squared_error\n",
    "from math import sqrt\n",
    "y_actual1 = df_train1['Actual Salary']\n",
    "y_predicted1 = df_train1['Predicted Salary']\n",
    "rmse_train = rmse(df_train.salary, model.predict(df_train[variables]))\n",
    "rmse_test = rmse(df_test.salary, model.predict(df_test[variables]))\n",
    "# train_rmse = rmse(df_train.salary, model.predict(df_train[variables]))\n",
    "# test_rmse = rmse(df_test.salary, model.predict(df_test[variables]))\n",
    "#standardizing residuals\n",
    "#Standardized residual = (observed count – expected count) / √expected count\n",
    "df_train1['Standardised Residuals'] = df_train1.Residual/rmse_train\n",
    "df_risid_fit = df_train1.loc[:,['Residual','Standardised Residuals','Actual Salary','Predicted Salary']]\n",
    "df_risid_fit\n"
   ]
  },
  {
   "cell_type": "markdown",
   "metadata": {},
   "source": [
    "## Residual plot"
   ]
  },
  {
   "cell_type": "code",
   "execution_count": null,
   "metadata": {},
   "outputs": [],
   "source": [
    "px.scatter(data_frame=df_risid_fit\n",
    "           , y='Residual'\n",
    "           , x='Predicted Salary'\n",
    "           , color=\"Actual Salary\"\n",
    "           , title='Residuals versus Predicted Salary'\n",
    "           , marginal_y='histogram'\n",
    "           , opacity=0.2\n",
    "           , template='seaborn'\n",
    "          )    "
   ]
  },
  {
   "cell_type": "markdown",
   "metadata": {},
   "source": [
    "Data points are pretty symmetrically distributed, tending to cluster towards the middle of the plot and  they’re clustered around y = 0 showing no patterns"
   ]
  },
  {
   "cell_type": "markdown",
   "metadata": {},
   "source": [
    "### 7. Running the model on the test set"
   ]
  },
  {
   "cell_type": "code",
   "execution_count": null,
   "metadata": {},
   "outputs": [],
   "source": [
    "# Quartiles and IQR:df_test\n",
    "q75_test, q25_test = np.percentile(df_test['salary'], [75 ,25])\n",
    "iqr_test = q75_test - q25_test\n",
    "\n",
    "# Extremes' boundaries: df_test\n",
    "test_lower_bound = q25_test - iqr_test*1.5\n",
    "test_upper_bound = q75_test + iqr_test*1.5\n",
    "\n",
    "#Determining if an entry is an extreme or an outlier:df_test\n",
    "df_test['Is_it_an_extreme'] = ['Yes' if i < test_lower_bound else 'Yes'\n",
    "                               if i > test_upper_bound else \"No\"\n",
    "                               for i in df_test.salary]\n",
    "df_test_outliers = df_test[df_test.Is_it_an_extreme == 'Yes']\n",
    "\n",
    "#Dropping outliers\n",
    "df_test = df_test[df_test.Is_it_an_extreme != 'Yes']\n",
    "\n",
    "\n"
   ]
  },
  {
   "cell_type": "code",
   "execution_count": null,
   "metadata": {},
   "outputs": [],
   "source": [
    "#model1: predict salary using years worked\n",
    "model1= smf.ols(formula='salary ~ yearsworked + market + yearsrank+ Engineering + Finance + Marketing +Jnr_employee + Manager', data=df_test).fit()\n",
    "\n",
    "df_test1 = model1.predict(df_test)\n",
    "df_test1 = pd.DataFrame(df_test1)\n",
    "\n",
    "#Mapping 2 columns: Observed salary together with Predicted salary\n",
    "df_test1['Actual Salary'] = df_test['salary']\n",
    "df_test1= df_test1.rename(columns={0:'Predicted Salary'})\n",
    "df_test1['Actual Salary'] = df_test1['Actual Salary'].astype(float)\n",
    "df_test1['Predicted Salary'] = df_test1['Predicted Salary'].astype(float)\n",
    "\n",
    "#Creating a residual column( a residual vertical distance between a data point and the regression line)\n",
    "df_test1['Residual'] = (df_test1['Actual Salary'] - df_test1['Predicted Salary'])\n",
    "\n",
    "#standardizing residuals\n",
    "#Standardized residual = (observed count – expected count) / √expected count\n",
    "df_test1['Standardised Residuals'] = df_test1.Residual/rmse_test\n",
    "\n"
   ]
  },
  {
   "cell_type": "markdown",
   "metadata": {},
   "source": [
    "### 7.1 RMSE Evals"
   ]
  },
  {
   "cell_type": "code",
   "execution_count": null,
   "metadata": {},
   "outputs": [],
   "source": [
    "print('The RMSE of the train data is: ',rmse_train)\n",
    "print('And The RMSE of the test data is: ',rmse_test,'which shows little evidence of underfitting nor underfitting')\n",
    "print('After such evidence, it is safe to conclude that this is a good model to predict salary.')"
   ]
  },
  {
   "cell_type": "markdown",
   "metadata": {},
   "source": [
    "## Insight\n",
    "\n",
    "With the assumptions of linear regression met, it is safe to say that the variables are good predictors of salary. "
   ]
  },
  {
   "cell_type": "markdown",
   "metadata": {},
   "source": [
    "# OOP for Data Science\n",
    "\n",
    "It is efficient to put machine learning models and other data science techniques into classes so that we can reuse them later and change attributes without changing the code behind these models. Independent concepts can also be put into independent classes: for example, the functioning of a cross-validate class should not affect the functioning of a linear regression class.\n",
    "\n",
    "The classes below illustrate the above concept in it that, this will not only help us compute all that we have done thus far with effeciency but because they can be reused and are designed components that are self-contained.\n"
   ]
  },
  {
   "cell_type": "code",
   "execution_count": null,
   "metadata": {},
   "outputs": [],
   "source": [
    "df_train1 = df_train1.rename(columns={'Residual': 'Residuals', \n",
    "                                      'Actual Salary': 'y','Predicted Salary':'y_pred',\n",
    "                                      'Standardised Residuals':'Stand_Resid'})\n",
    "df_train1"
   ]
  },
  {
   "cell_type": "code",
   "execution_count": null,
   "metadata": {},
   "outputs": [],
   "source": [
    "# Class: ErrorCalculator \n",
    "class ErrorCalculator:\n",
    "\n",
    "    def __init__(self, y, y_pred):\n",
    "\n",
    "        self.y          =   np.array(y)       \n",
    "        self.y_pred     =   np.array(y_pred)  \n",
    "\n",
    "\n",
    "    def get_residuals(self):\n",
    "\n",
    "        residuals = self.y  - self.y_pred\n",
    "        return residuals\n",
    "\n",
    "    def get_standardised_residuals(self):\n",
    "\n",
    "        standardised_residuals = self.get_residuals() / (self.get_residuals()/std())\n",
    "        return standardised_residuals\n",
    "\n",
    "    def get_mse(self):\n",
    "\n",
    "        mse = np.square(np.subtract(self.y, self.y_pred)).mean()\n",
    "        return mse\n",
    "\n",
    "    def get_rmse(self):\n",
    "\n",
    "        rmse = np.sqrt(((self.y_pred - self.y)**2).mean())\n",
    "        return rmse\n",
    "\n",
    "    def error_summary(self):\n",
    "        min_standard = min(self.Standard)\n",
    "        max_standard = max(self.Standard)\n",
    "        min_rmse = min(self.rmse)\n",
    "        max_rmse = max(self.rmse)\n",
    "        mse_min = min(self.mse)\n",
    "        mse_max = max(self.mse)\n",
    "        print(f'standard residual: {min_standard}')\n",
    "        print(f'standard residual: {max_standard}')\n",
    "        print(f'min rmse: {min_rmse}')\n",
    "        print(f'max rmse: {max_rmse}')"
   ]
  },
  {
   "cell_type": "code",
   "execution_count": null,
   "metadata": {},
   "outputs": [],
   "source": [
    "#Class: Plotter\n",
    "class Plotter():\n",
    "    def __init__(self,y_test,y_pred):\n",
    "        self.y_test = y_test\n",
    "        self.ypred = y_pred\n",
    "    \n",
    "    def run_calculations(self):\n",
    "        return self.y_test - self.y_pred\n",
    "    \n",
    "    def plot(self):\n",
    "        plt.hist(self.y_test - self.ypred)\n",
    "        plt.title('Residuals Plot for predictions')\n",
    "        plt.xlabel('Residuals')\n",
    "        plt.ylabel('Frequency')\n",
    "        return plt.show()"
   ]
  },
  {
   "cell_type": "code",
   "execution_count": null,
   "metadata": {},
   "outputs": [],
   "source": [
    "# Class:  histogram plotter\n",
    "class HistogramPlotter(Plotter):\n",
    "    def __init__(self, y_test,y_pred):\n",
    "        Plotter.__init__(self, y_test, y_pred)\n",
    "\n",
    "   \n",
    "\n",
    "\n",
    "    "
   ]
  },
  {
   "cell_type": "code",
   "execution_count": null,
   "metadata": {},
   "outputs": [],
   "source": [
    "class ScatterPlotter(Plotter):\n",
    "    def __init__(self, y_test, y_pred):\n",
    "        Plotter.__init__(self, y_test, y_pred)\n",
    "\n",
    "    def plot(self):\n",
    "        chart = pd.DataFrame({\"y_test\": self.y_test, \"y_prediction\": self.y_pred})\n",
    "        chart.plot.scatter(x=\"y_test\", y=\"y_prediction\", c=\"DarkBlue\")\n",
    "        plt.title(\"Prediction vs Actual values\")\n",
    "        plt.xlabel(\"Actual\")\n",
    "        plt.ylabel(\"Prediction\")\n",
    "        return plt.show()"
   ]
  },
  {
   "cell_type": "markdown",
   "metadata": {},
   "source": [
    "## Model 1 "
   ]
  },
  {
   "cell_type": "code",
   "execution_count": null,
   "metadata": {},
   "outputs": [],
   "source": [
    "\n",
    "df_dummies =pd.get_dummies(df_salary.Field)\n",
    "df_dummies1 =pd.get_dummies(df_salary.position)\n",
    "df_dummies2 =pd.get_dummies(df_salary.gender)\n",
    "original = df_salary.loc[:,['salary','exprior','yearsworked','yearsrank','market','degree','otherqual']]\n",
    "df_salary1 = pd.concat([original, df_dummies, df_dummies1,df_dummies2] ,axis=1)\n",
    "df_salary1 =df_salary1.rename(columns ={'Human Resource':'HR'})\n",
    "df_salary1 = df_salary1.drop(['HR', 'Executive'], axis=1)\n",
    "df_salary2 = df_salary1.copy()\n",
    "df_salary1"
   ]
  },
  {
   "cell_type": "code",
   "execution_count": null,
   "metadata": {},
   "outputs": [],
   "source": [
    "# Split\n",
    "X_train, X_test, y_train, y_test = train_test_split(df_salary1.drop(labels=[\"salary\"], axis=1),\n",
    "                                                    df_salary[\"salary\"],\n",
    "                                                    test_size = 0.3,\n",
    "                                                    random_state = 42)"
   ]
  },
  {
   "cell_type": "code",
   "execution_count": null,
   "metadata": {},
   "outputs": [],
   "source": [
    "# create a fitted model: salary vs Years worked _ Market + Years Rank\n",
    "model_1= smf.ols(formula='salary ~ yearsworked + market + yearsrank + Finance + Marketing +Jnr_employee + Manager', data=df_salary1).fit()\n",
    "model.summary()"
   ]
  },
  {
   "cell_type": "markdown",
   "metadata": {},
   "source": [
    "## Model 2"
   ]
  },
  {
   "cell_type": "code",
   "execution_count": null,
   "metadata": {},
   "outputs": [],
   "source": [
    "# Split\n",
    "X_train2, X_test2, y_train2, y_test2 = train_test_split(df_salary2.drop(labels=[\"salary\"], axis=1),\n",
    "                                                    df_salary2[\"salary\"],\n",
    "                                                    test_size = 0.3,\n",
    "                                                    random_state = 42)\n",
    "# create a fitted model: salary vs Years worked _ Market + Years Rank\n",
    "model_2= smf.ols(formula='salary ~ yearsworked + market + yearsrank+ Finance + Marketing +Jnr_employee + Manager', data=df_salary2).fit()\n",
    "model_2.summary()"
   ]
  },
  {
   "cell_type": "code",
   "execution_count": null,
   "metadata": {},
   "outputs": [],
   "source": [
    "#error calculator\n",
    "error_model1 = ErrorCalculator(y_test, model.predict(sm.add_constant(X_test)))\n",
    "error_model2 = ErrorCalculator(y_test2, model_2.predict(sm.add_constant(X_test2)))\n",
    "\n",
    "# MSE \n",
    "print(\"1st model MSE:  {}\".format(error_model1.get_mse()))\n",
    "print(\"2nd model MSE:  {}\".format(error_model2.get_mse()))"
   ]
  },
  {
   "cell_type": "code",
   "execution_count": null,
   "metadata": {},
   "outputs": [],
   "source": [
    "# RMSE\n",
    "print(\"1st model RMSE:  {}\".format(error_model1.get_rmse()))\n",
    "print(\"2nd model RMSE:  {}\".format(error_model2.get_rmse()))"
   ]
  },
  {
   "cell_type": "code",
   "execution_count": null,
   "metadata": {},
   "outputs": [],
   "source": [
    "#Model 1 plotting graphs\n",
    "model1_plot = HistogramPlotter(y_test, model.predict(sm.add_constant(X_test)))\n",
    "model1_scatter = ScatterPlot(y_test, model.predict(sm.add_constant(X_test)))\n",
    "# Mode1 Histogram Plot\n",
    "model1_plot.plot()\n"
   ]
  }
 ],
 "metadata": {
  "kernelspec": {
   "display_name": "Python 3",
   "language": "python",
   "name": "python3"
  },
  "language_info": {
   "codemirror_mode": {
    "name": "ipython",
    "version": 3
   },
   "file_extension": ".py",
   "mimetype": "text/x-python",
   "name": "python",
   "nbconvert_exporter": "python",
   "pygments_lexer": "ipython3",
   "version": "3.6.9"
  }
 },
 "nbformat": 4,
 "nbformat_minor": 2
}
